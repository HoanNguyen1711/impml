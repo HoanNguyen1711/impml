{
 "cells": [
  {
   "cell_type": "markdown",
   "metadata": {},
   "source": [
    "# Q8: Gradient Vector Calculation and the Role of Regularization in Logistic Regression"
   ]
  },
  {
   "cell_type": "code",
   "execution_count": 1,
   "id": "fb707a2a-ea0f-45d0-8377-cfcf91068b88",
   "metadata": {},
   "outputs": [
    {
     "name": "stdout",
     "output_type": "stream",
     "text": [
      "Linear combination z: 6.81\n",
      "Logistic prediction h(x): 0.9989\n",
      "Error (h(x) - y): -0.0011\n",
      "\n",
      "Unregularized Gradient Vector:\n",
      "Gradient for w0: -0.0011\n",
      "Gradient for w1: -0.0408\n",
      "Gradient for w2: -0.7765\n",
      "\n",
      "With L2 Regularization (lambda = 0.1):\n",
      "Regularized gradient for w0 (no regularization on intercept): -0.0011\n",
      "Regularized gradient for w1: -0.0428\n",
      "Regularized gradient for w2: -0.7755\n"
     ]
    }
   ],
   "source": [
    "import numpy as np\n",
    "\n",
    "def sigmoid(z):\n",
    "    return 1 / (1 + np.exp(-z))\n",
    "\n",
    "# Given weights and test record T1\n",
    "w0 = 0.5\n",
    "w1 = -0.02\n",
    "w2 = 0.01\n",
    "\n",
    "age_T1 = 37\n",
    "credit_T1 = 705\n",
    "y_true = 1  # Assuming the true label for T1 is 1\n",
    "\n",
    "# Compute linear combination z\n",
    "z = w0 + w1 * age_T1 + w2 * credit_T1\n",
    "print(f\"Linear combination z: {z:.2f}\")\n",
    "\n",
    "# Compute logistic prediction\n",
    "hx = sigmoid(z)\n",
    "print(f\"Logistic prediction h(x): {hx:.4f}\")\n",
    "\n",
    "# Compute error (h(x) - y)\n",
    "error = hx - y_true\n",
    "print(f\"Error (h(x) - y): {error:.4f}\")\n",
    "\n",
    "# Unregularized gradient vector calculation\n",
    "# For the intercept x0 = 1, and features: Age and CreditScore\n",
    "grad_w0 = error * 1\n",
    "grad_w1 = error * age_T1\n",
    "grad_w2 = error * credit_T1\n",
    "\n",
    "print(\"\\nUnregularized Gradient Vector:\")\n",
    "print(f\"Gradient for w0: {grad_w0:.4f}\")\n",
    "print(f\"Gradient for w1: {grad_w1:.4f}\")\n",
    "print(f\"Gradient for w2: {grad_w2:.4f}\")\n",
    "\n",
    "# Regularization: Using L2 regularization adds lambda * w_j to the gradient for j >= 1\n",
    "lambda_reg = 0.1  # Example regularization parameter\n",
    "\n",
    "grad_w1_reg = grad_w1 + lambda_reg * w1\n",
    "grad_w2_reg = grad_w2 + lambda_reg * w2\n",
    "\n",
    "print(\"\\nWith L2 Regularization (lambda = 0.1):\")\n",
    "print(f\"Regularized gradient for w0 (no regularization on intercept): {grad_w0:.4f}\")\n",
    "print(f\"Regularized gradient for w1: {grad_w1_reg:.4f}\")\n",
    "print(f\"Regularized gradient for w2: {grad_w2_reg:.4f}\")"
   ]
  }
 ],
 "metadata": {
  "kernelspec": {
   "display_name": "general-env",
   "language": "python",
   "name": "python3"
  },
  "language_info": {
   "codemirror_mode": {
    "name": "ipython",
    "version": 3
   },
   "file_extension": ".py",
   "mimetype": "text/x-python",
   "name": "python",
   "nbconvert_exporter": "python",
   "pygments_lexer": "ipython3",
   "version": "3.13.1"
  }
 },
 "nbformat": 4,
 "nbformat_minor": 5
}
