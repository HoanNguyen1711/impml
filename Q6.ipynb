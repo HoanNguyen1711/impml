{
 "cells": [
  {
   "cell_type": "markdown",
   "metadata": {},
   "source": [
    "# Q6: Mean Squared Error and R² Evaluation for the Linear Regression Model"
   ]
  },
  {
   "cell_type": "code",
   "execution_count": 1,
   "id": "ffb6c0c4-4d59-4d96-afd1-03e9c8f4c8d3",
   "metadata": {},
   "outputs": [
    {
     "name": "stdout",
     "output_type": "stream",
     "text": [
      "Training Data (after imputation):\n",
      "   ID  Age  CreditScore  Education\n",
      "0   1   35          720  16.000000\n",
      "1   2   28          650  14.000000\n",
      "2   3   45          750  14.571429\n",
      "3   4   31          600  12.000000\n",
      "4   5   52          780  18.000000\n",
      "5   6   29          630  14.000000\n",
      "6   7   42          710  16.000000\n",
      "7   8   33          640  12.000000\n",
      "Coefficients (beta):\n",
      "[[327.32340185]\n",
      " [  4.24933015]\n",
      " [ 13.79292002]]\n",
      "Mean Squared Error (MSE): 370.77\n",
      "R² Value: 0.8963\n"
     ]
    },
    {
     "name": "stderr",
     "output_type": "stream",
     "text": [
      "/tmp/ipykernel_62855/3629496231.py:16: FutureWarning: A value is trying to be set on a copy of a DataFrame or Series through chained assignment using an inplace method.\n",
      "The behavior will change in pandas 3.0. This inplace method will never work because the intermediate object on which we are setting values always behaves as a copy.\n",
      "\n",
      "For example, when doing 'df[col].method(value, inplace=True)', try using 'df.method({col: value}, inplace=True)' or df[col] = df[col].method(value) instead, to perform the operation inplace on the original object.\n",
      "\n",
      "\n",
      "  df['Education'].fillna(education_mean, inplace=True)\n"
     ]
    }
   ],
   "source": [
    "import numpy as np\n",
    "import pandas as pd\n",
    "\n",
    "# Create the training dataset\n",
    "data = {\n",
    "    'ID': [1, 2, 3, 4, 5, 6, 7, 8],\n",
    "    'Age': [35, 28, 45, 31, 52, 29, 42, 33],\n",
    "    'CreditScore': [720, 650, 750, 600, 780, 630, 710, 640],\n",
    "    'Education': [16, 14, None, 12, 18, 14, 16, 12]\n",
    "}\n",
    "\n",
    "df = pd.DataFrame(data)\n",
    "\n",
    "# Impute missing Education values using mean imputation\n",
    "education_mean = df['Education'].mean()\n",
    "df['Education'].fillna(education_mean, inplace=True)\n",
    "\n",
    "print(\"Training Data (after imputation):\")\n",
    "print(df)\n",
    "\n",
    "# Construct the design matrix X (including an intercept term)\n",
    "X = np.column_stack((np.ones(len(df)), df['Age'].values, df['Education'].values))\n",
    "y = df['CreditScore'].values.reshape(-1, 1)\n",
    "\n",
    "# Compute the regression coefficients using the normal equation\n",
    "beta = np.linalg.inv(X.T @ X) @ (X.T @ y)\n",
    "print(\"Coefficients (beta):\")\n",
    "print(beta)\n",
    "\n",
    "# Compute predictions for all training records\n",
    "y_pred = X @ beta\n",
    "\n",
    "# Calculate the Mean Squared Error (MSE)\n",
    "mse = np.mean((y - y_pred) ** 2)\n",
    "print(f\"Mean Squared Error (MSE): {mse:.2f}\")\n",
    "\n",
    "# Calculate R² value\n",
    "y_mean = np.mean(y)\n",
    "sst = np.sum((y - y_mean) ** 2)  # Total Sum of Squares\n",
    "ssr = np.sum((y - y_pred) ** 2)  # Residual Sum of Squares\n",
    "r2 = 1 - ssr/sst\n",
    "print(f\"R² Value: {r2:.4f}\")"
   ]
  }
 ],
 "metadata": {
  "kernelspec": {
   "display_name": "general-env",
   "language": "python",
   "name": "python3"
  },
  "language_info": {
   "codemirror_mode": {
    "name": "ipython",
    "version": 3
   },
   "file_extension": ".py",
   "mimetype": "text/x-python",
   "name": "python",
   "nbconvert_exporter": "python",
   "pygments_lexer": "ipython3",
   "version": "3.13.1"
  }
 },
 "nbformat": 4,
 "nbformat_minor": 5
}
