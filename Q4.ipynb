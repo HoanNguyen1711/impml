{
 "cells": [
  {
   "cell_type": "markdown",
   "metadata": {},
   "source": [
    "# Q4: Batch Gradient Descent for Predicting CreditScore Using Age\n"
   ]
  },
  {
   "cell_type": "code",
   "execution_count": 1,
   "id": "3467aa60-6862-45fe-ac36-0a0a7bc0b4e6",
   "metadata": {},
   "outputs": [
    {
     "name": "stdout",
     "output_type": "stream",
     "text": [
      "Initial cost: 439.06\n",
      "Gradient for theta0: -0.6250\n",
      "Gradient for theta1: -131.8750\n",
      "Updated theta0: 500.00625\n",
      "Updated theta1: 6.31875\n",
      "   Age  CreditScore  Prediction  Error\n",
      "0   35          720         675    -45\n",
      "1   28          650         640    -10\n",
      "2   45          750         725    -25\n",
      "3   31          600         655     55\n",
      "4   52          780         760    -20\n",
      "5   29          630         645     15\n",
      "6   42          710         710      0\n",
      "7   33          640         665     25\n"
     ]
    }
   ],
   "source": [
    "import numpy as np\n",
    "import pandas as pd\n",
    "\n",
    "def compute_cost(theta0, theta1, x, y):\n",
    "    m = len(y)\n",
    "    predictions = theta0 + theta1 * x\n",
    "    errors = predictions - y\n",
    "    cost = (1 / (2 * m)) * np.sum(errors ** 2)\n",
    "    return cost\n",
    "\n",
    "def compute_gradients(theta0, theta1, x, y):\n",
    "    m = len(y)\n",
    "    predictions = theta0 + theta1 * x\n",
    "    errors = predictions - y\n",
    "    grad_theta0 = (1 / m) * np.sum(errors)\n",
    "    grad_theta1 = (1 / m) * np.sum(errors * x)\n",
    "    return grad_theta0, grad_theta1\n",
    "\n",
    "# Training dataset\n",
    "data = {\n",
    "    'Age': [35, 28, 45, 31, 52, 29, 42, 33],\n",
    "    'CreditScore': [720, 650, 750, 600, 780, 630, 710, 640]\n",
    "}\n",
    "df = pd.DataFrame(data)\n",
    "x = df['Age'].values\n",
    "y = df['CreditScore'].values\n",
    "\n",
    "# Initial parameters\n",
    "theta0 = 500\n",
    "theta1 = 5\n",
    "alpha = 0.01\n",
    "\n",
    "# Compute initial cost\n",
    "initial_cost = compute_cost(theta0, theta1, x, y)\n",
    "print(f\"Initial cost: {initial_cost:.2f}\")\n",
    "\n",
    "# Compute gradients\n",
    "grad_theta0, grad_theta1 = compute_gradients(theta0, theta1, x, y)\n",
    "print(f\"Gradient for theta0: {grad_theta0:.4f}\")\n",
    "print(f\"Gradient for theta1: {grad_theta1:.4f}\")\n",
    "\n",
    "# Perform one gradient descent update\n",
    "theta0_new = theta0 - alpha * grad_theta0\n",
    "theta1_new = theta1 - alpha * grad_theta1\n",
    "\n",
    "print(f\"Updated theta0: {theta0_new:.5f}\")\n",
    "print(f\"Updated theta1: {theta1_new:.5f}\")\n",
    "\n",
    "# For reference, show the predictions and errors\n",
    "predictions = theta0 + theta1 * x\n",
    "errors = predictions - y\n",
    "results = pd.DataFrame({'Age': x, 'CreditScore': y, 'Prediction': predictions, 'Error': errors})\n",
    "print(results)"
   ]
  }
 ],
 "metadata": {
  "kernelspec": {
   "display_name": "general-env",
   "language": "python",
   "name": "python3"
  },
  "language_info": {
   "codemirror_mode": {
    "name": "ipython",
    "version": 3
   },
   "file_extension": ".py",
   "mimetype": "text/x-python",
   "name": "python",
   "nbconvert_exporter": "python",
   "pygments_lexer": "ipython3",
   "version": "3.13.1"
  }
 },
 "nbformat": 4,
 "nbformat_minor": 5
}
