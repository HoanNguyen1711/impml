{
 "cells": [
  {
   "cell_type": "markdown",
   "metadata": {},
   "source": [
    "# Q7: Logistic Regression for Predicting RiskLevel"
   ]
  },
  {
   "cell_type": "code",
   "execution_count": 1,
   "id": "ef2c1ac6-7afb-412b-a8f2-e0a4a681a0f0",
   "metadata": {},
   "outputs": [
    {
     "name": "stdout",
     "output_type": "stream",
     "text": [
      "Linear combination z: 6.81\n",
      "Logistic prediction h(x): 0.9989\n",
      "Cost for T1: 0.0011\n"
     ]
    }
   ],
   "source": [
    "import numpy as np\n",
    "\n",
    "def sigmoid(z):\n",
    "    return 1 / (1 + np.exp(-z))\n",
    "\n",
    "# Given weights\n",
    "w0 = 0.5\n",
    "w1 = -0.02\n",
    "w2 = 0.01\n",
    "\n",
    "# Test record T1\n",
    "age_T1 = 37\n",
    "credit_T1 = 705\n",
    "\n",
    "# Compute z = w0 + w1*Age + w2*CreditScore\n",
    "z = w0 + w1 * age_T1 + w2 * credit_T1\n",
    "print(f\"Linear combination z: {z:.2f}\")\n",
    "\n",
    "# Compute the logistic prediction h(x) = sigmoid(z)\n",
    "hx = sigmoid(z)\n",
    "print(f\"Logistic prediction h(x): {hx:.4f}\")\n",
    "\n",
    "# Assuming the true label for T1 is y = 1, compute the logistic cost function for one example\n",
    "y_true = 1\n",
    "\n",
    "# Logistic regression cost function for one example\n",
    "cost = - (y_true * np.log(hx) + (1 - y_true) * np.log(1 - hx))\n",
    "print(f\"Cost for T1: {cost:.4f}\")"
   ]
  }
 ],
 "metadata": {
  "kernelspec": {
   "display_name": "general-env",
   "language": "python",
   "name": "python3"
  },
  "language_info": {
   "codemirror_mode": {
    "name": "ipython",
    "version": 3
   },
   "file_extension": ".py",
   "mimetype": "text/x-python",
   "name": "python",
   "nbconvert_exporter": "python",
   "pygments_lexer": "ipython3",
   "version": "3.13.1"
  }
 },
 "nbformat": 4,
 "nbformat_minor": 5
}
