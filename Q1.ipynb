{
 "cells": [
  {
   "cell_type": "markdown",
   "metadata": {},
   "source": [
    "# Q1: Information Gain for Splitting on CreditScore at 650"
   ]
  },
  {
   "cell_type": "code",
   "execution_count": 1,
   "id": "c42c3d78-8476-4bd4-aee1-9b357cd31682",
   "metadata": {},
   "outputs": [
    {
     "name": "stdout",
     "output_type": "stream",
     "text": [
      "Parent Entropy: 1.0\n",
      "Entropy of Group A (CreditScore >= 650): 0.7219280948873623\n",
      "Entropy of Group B (CreditScore < 650): -0.0\n",
      "Weighted Entropy after split: 0.4512050593046014\n",
      "Information Gain: 0.5487949406953986\n"
     ]
    }
   ],
   "source": [
    "import numpy as np\n",
    "import pandas as pd\n",
    "\n",
    "def entropy(labels):\n",
    "    \"\"\"Compute the entropy of a list of labels.\"\"\"\n",
    "    # Get unique classes and their counts\n",
    "    values, counts = np.unique(labels, return_counts=True)\n",
    "    probabilities = counts / counts.sum()\n",
    "    return -np.sum(probabilities * np.log2(probabilities))\n",
    "\n",
    "# Create the training dataset\n",
    "data = {\n",
    "    'ID': [1, 2, 3, 4, 5, 6, 7, 8],\n",
    "    'Age': [35, 28, 45, 31, 52, 29, 42, 33],\n",
    "    'CreditScore': [720, 650, 750, 600, 780, 630, 710, 640],\n",
    "    'Education': [16, 14, None, 12, 18, 14, 16, 12],\n",
    "    'RiskLevel': ['Low', 'High', 'Low', 'High', 'Low', 'High', 'Low', 'High']\n",
    "}\n",
    "\n",
    "df = pd.DataFrame(data)\n",
    "\n",
    "# Calculate the entropy of the parent node\n",
    "parent_entropy = entropy(df['RiskLevel'])\n",
    "print(\"Parent Entropy:\", parent_entropy)  \n",
    "\n",
    "# Split the dataset based on CreditScore at 650\n",
    "group_A = df[df['CreditScore'] >= 650]  # Group A: CreditScore >= 650\n",
    "group_B = df[df['CreditScore'] < 650]   # Group B: CreditScore < 650\n",
    "\n",
    "entropy_A = entropy(group_A['RiskLevel'])\n",
    "entropy_B = entropy(group_B['RiskLevel'])\n",
    "\n",
    "print(\"Entropy of Group A (CreditScore >= 650):\", entropy_A)\n",
    "print(\"Entropy of Group B (CreditScore < 650):\", entropy_B)\n",
    "\n",
    "# Calculate the weighted entropy after the split\n",
    "n = len(df)\n",
    "weighted_entropy = (len(group_A) / n) * entropy_A + (len(group_B) / n) * entropy_B\n",
    "print(\"Weighted Entropy after split:\", weighted_entropy)\n",
    "\n",
    "# Information Gain calculation\n",
    "information_gain = parent_entropy - weighted_entropy\n",
    "print(\"Information Gain:\", information_gain)"
   ]
  }
 ],
 "metadata": {
  "kernelspec": {
   "display_name": "general-env",
   "language": "python",
   "name": "python3"
  },
  "language_info": {
   "codemirror_mode": {
    "name": "ipython",
    "version": 3
   },
   "file_extension": ".py",
   "mimetype": "text/x-python",
   "name": "python",
   "nbconvert_exporter": "python",
   "pygments_lexer": "ipython3",
   "version": "3.13.1"
  }
 },
 "nbformat": 4,
 "nbformat_minor": 5
}
