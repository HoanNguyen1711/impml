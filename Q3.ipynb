{
 "cells": [
  {
   "cell_type": "markdown",
   "metadata": {},
   "source": [
    "# Q3: Predicting T2 Risk Level and Handling Missing Values"
   ]
  },
  {
   "cell_type": "code",
   "execution_count": 1,
   "id": "59bdf76c-7d5e-4d9e-a4aa-dc0e338f72f5",
   "metadata": {},
   "outputs": [
    {
     "name": "stdout",
     "output_type": "stream",
     "text": [
      "Training Data:\n",
      "    ID  Age  CreditScore  Education RiskLevel\n",
      "0   1   35          720       16.0       Low\n",
      "1   2   28          650       14.0      High\n",
      "2   3   45          750        NaN       Low\n",
      "3   4   31          600       12.0      High\n",
      "4   5   52          780       18.0       Low\n",
      "5   6   29          630       14.0      High\n",
      "6   7   42          710       16.0       Low\n",
      "7   8   33          640       12.0      High\n"
     ]
    }
   ],
   "source": [
    "import pandas as pd\n",
    "\n",
    "# Create the training dataset\n",
    "data = {\n",
    "    'ID': [1, 2, 3, 4, 5, 6, 7, 8],\n",
    "    'Age': [35, 28, 45, 31, 52, 29, 42, 33],\n",
    "    'CreditScore': [720, 650, 750, 600, 780, 630, 710, 640],\n",
    "    'Education': [16, 14, None, 12, 18, 14, 16, 12],\n",
    "    'RiskLevel': ['Low', 'High', 'Low', 'High', 'Low', 'High', 'Low', 'High']\n",
    "}\n",
    "\n",
    "df = pd.DataFrame(data)\n",
    "df['Education'] = df['Education'].astype('float')\n",
    "\n",
    "# Display the training dataset\n",
    "print(\"Training Data:\\n\", df)"
   ]
  },
  {
   "cell_type": "markdown",
   "metadata": {},
   "source": [
    "### Define the Test Case T2\n",
    "\n",
    "T2 has the following attributes:\n",
    "\n",
    "- **Age:** 30\n",
    "- **CreditScore:** 645\n",
    "- **Education:** missing\n",
    "\n",
    "Since Education is missing, we focus on Age and CreditScore."
   ]
  },
  {
   "cell_type": "code",
   "execution_count": 2,
   "id": "cb8b0a63-2f28-4c14-8a0c-cd72a4b71d77",
   "metadata": {},
   "outputs": [
    {
     "name": "stdout",
     "output_type": "stream",
     "text": [
      "Test Record T2: {'Age': 30, 'CreditScore': 645}\n"
     ]
    }
   ],
   "source": [
    "# Define the test record T2 as a dictionary\n",
    "T2 = {'Age': 30, 'CreditScore': 645}\n",
    "\n",
    "print(\"Test Record T2:\", T2)"
   ]
  },
  {
   "cell_type": "markdown",
   "metadata": {},
   "source": [
    "### Identify Similar Training Records\n",
    "\n",
    "We select training records with similar Age and CreditScore. Here, we define similarity as:\n",
    "- Absolute difference in Age ≤ 5 years\n",
    "- Absolute difference in CreditScore ≤ 25 points\n",
    "\n",
    "These thresholds can be adjusted based on the dataset."
   ]
  },
  {
   "cell_type": "code",
   "execution_count": 3,
   "id": "b9fa718f-dfc8-4c99-90f3-77d7e475bcd0",
   "metadata": {},
   "outputs": [
    {
     "name": "stdout",
     "output_type": "stream",
     "text": [
      "Similar Training Records:\n",
      "    ID  Age  CreditScore  Education RiskLevel\n",
      "1   2   28          650       14.0      High\n",
      "5   6   29          630       14.0      High\n",
      "7   8   33          640       12.0      High\n"
     ]
    }
   ],
   "source": [
    "# Define thresholds for similarity\n",
    "age_threshold = 5\n",
    "credit_threshold = 25\n",
    "\n",
    "# Filter the training data for similar records\n",
    "similar_records = df[(abs(df['Age'] - T2['Age']) <= age_threshold) & \n",
    "                     (abs(df['CreditScore'] - T2['CreditScore']) <= credit_threshold)]\n",
    "\n",
    "print(\"Similar Training Records:\\n\", similar_records)"
   ]
  },
  {
   "cell_type": "markdown",
   "metadata": {},
   "source": [
    "### Calculate the Probability of T2 Being High Risk\n",
    "\n",
    "Now, we compute the proportion of similar records that are classified as High Risk."
   ]
  },
  {
   "cell_type": "code",
   "execution_count": 4,
   "id": "f1e7bfb2-22e3-4f15-95ea-5f14a897d1e5",
   "metadata": {},
   "outputs": [
    {
     "name": "stdout",
     "output_type": "stream",
     "text": [
      "Probability of T2 being High Risk: 1.0\n"
     ]
    }
   ],
   "source": [
    "# Count the number of similar records and those with High risk\n",
    "total_similar = len(similar_records)\n",
    "high_risk_count = len(similar_records[similar_records['RiskLevel'] == 'High'])\n",
    "\n",
    "if total_similar > 0:\n",
    "    probability_high = high_risk_count / total_similar\n",
    "else:\n",
    "    probability_high = None\n",
    "\n",
    "print(f\"Probability of T2 being High Risk: {probability_high}\")"
   ]
  }
 ],
 "metadata": {
  "kernelspec": {
   "display_name": "general-env",
   "language": "python",
   "name": "python3"
  },
  "language_info": {
   "codemirror_mode": {
    "name": "ipython",
    "version": 3
   },
   "file_extension": ".py",
   "mimetype": "text/x-python",
   "name": "python",
   "nbconvert_exporter": "python",
   "pygments_lexer": "ipython3",
   "version": "3.13.1"
  }
 },
 "nbformat": 4,
 "nbformat_minor": 5
}
